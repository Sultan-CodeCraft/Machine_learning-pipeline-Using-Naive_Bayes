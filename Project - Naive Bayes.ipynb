{
 "cells": [
  {
   "cell_type": "code",
   "execution_count": 1,
   "id": "3d8d5abe",
   "metadata": {},
   "outputs": [],
   "source": [
    "import pandas as pd\n",
    "import numpy as np\n",
    "from matplotlib import pyplot as plt\n",
    "import seaborn as sns\n",
    "import re\n",
    "import csv\n",
    "import random\n",
    "import math\n",
    "\n",
    "from sklearn.feature_extraction.text import CountVectorizer\n",
    "\n",
    "from sklearn.feature_extraction.text import TfidfVectorizer\n",
    "from sklearn.feature_extraction.text import HashingVectorizer\n",
    "from sklearn.naive_bayes import MultinomialNB\n",
    "from sklearn.naive_bayes import BernoulliNB\n",
    "from sklearn.naive_bayes import GaussianNB\n",
    "from sklearn.preprocessing import LabelEncoder\n",
    "from sklearn.metrics import accuracy_score\n",
    "from sklearn import metrics\n"
   ]
  },
  {
   "cell_type": "code",
   "execution_count": 2,
   "id": "39baa51e",
   "metadata": {},
   "outputs": [
    {
     "name": "stdout",
     "output_type": "stream",
     "text": [
      "(6400, 3)\n"
     ]
    },
    {
     "data": {
      "text/html": [
       "<div>\n",
       "<style scoped>\n",
       "    .dataframe tbody tr th:only-of-type {\n",
       "        vertical-align: middle;\n",
       "    }\n",
       "\n",
       "    .dataframe tbody tr th {\n",
       "        vertical-align: top;\n",
       "    }\n",
       "\n",
       "    .dataframe thead th {\n",
       "        text-align: right;\n",
       "    }\n",
       "</style>\n",
       "<table border=\"1\" class=\"dataframe\">\n",
       "  <thead>\n",
       "    <tr style=\"text-align: right;\">\n",
       "      <th></th>\n",
       "      <th>id</th>\n",
       "      <th>text</th>\n",
       "      <th>label</th>\n",
       "    </tr>\n",
       "  </thead>\n",
       "  <tbody>\n",
       "    <tr>\n",
       "      <th>6390</th>\n",
       "      <td>6390</td>\n",
       "      <td>This movie was much better than I expected. ++...</td>\n",
       "      <td>positive</td>\n",
       "    </tr>\n",
       "    <tr>\n",
       "      <th>6391</th>\n",
       "      <td>6391</td>\n",
       "      <td>This is one of Joan Crawford's best Talkies. I...</td>\n",
       "      <td>positive</td>\n",
       "    </tr>\n",
       "    <tr>\n",
       "      <th>6392</th>\n",
       "      <td>6392</td>\n",
       "      <td>I had the privilege of seeing this film at a p...</td>\n",
       "      <td>positive</td>\n",
       "    </tr>\n",
       "    <tr>\n",
       "      <th>6393</th>\n",
       "      <td>6393</td>\n",
       "      <td>This almost documentary look at an enterprisin...</td>\n",
       "      <td>positive</td>\n",
       "    </tr>\n",
       "    <tr>\n",
       "      <th>6394</th>\n",
       "      <td>6394</td>\n",
       "      <td>So terrific, so good. I have never seen a man ...</td>\n",
       "      <td>positive</td>\n",
       "    </tr>\n",
       "    <tr>\n",
       "      <th>6395</th>\n",
       "      <td>6395</td>\n",
       "      <td>When the opening shot is U.S. Marines seriousl...</td>\n",
       "      <td>negative</td>\n",
       "    </tr>\n",
       "    <tr>\n",
       "      <th>6396</th>\n",
       "      <td>6396</td>\n",
       "      <td>This movie is not based on the bible. It compl...</td>\n",
       "      <td>negative</td>\n",
       "    </tr>\n",
       "    <tr>\n",
       "      <th>6397</th>\n",
       "      <td>6397</td>\n",
       "      <td>I came across this film by accident and wish I...</td>\n",
       "      <td>negative</td>\n",
       "    </tr>\n",
       "    <tr>\n",
       "      <th>6398</th>\n",
       "      <td>6398</td>\n",
       "      <td>80's sleazy (glam)rock is like 90's house musi...</td>\n",
       "      <td>negative</td>\n",
       "    </tr>\n",
       "    <tr>\n",
       "      <th>6399</th>\n",
       "      <td>6399</td>\n",
       "      <td>Over the many years, there are some films that...</td>\n",
       "      <td>positive</td>\n",
       "    </tr>\n",
       "  </tbody>\n",
       "</table>\n",
       "</div>"
      ],
      "text/plain": [
       "        id                                               text     label\n",
       "6390  6390  This movie was much better than I expected. ++...  positive\n",
       "6391  6391  This is one of Joan Crawford's best Talkies. I...  positive\n",
       "6392  6392  I had the privilege of seeing this film at a p...  positive\n",
       "6393  6393  This almost documentary look at an enterprisin...  positive\n",
       "6394  6394  So terrific, so good. I have never seen a man ...  positive\n",
       "6395  6395  When the opening shot is U.S. Marines seriousl...  negative\n",
       "6396  6396  This movie is not based on the bible. It compl...  negative\n",
       "6397  6397  I came across this film by accident and wish I...  negative\n",
       "6398  6398  80's sleazy (glam)rock is like 90's house musi...  negative\n",
       "6399  6399  Over the many years, there are some films that...  positive"
      ]
     },
     "execution_count": 2,
     "metadata": {},
     "output_type": "execute_result"
    }
   ],
   "source": [
    "filepath_train = 'train_split.csv'\n",
    "df = pd.read_csv(filepath_train)\n",
    "print(df.shape)\n",
    "df.tail(10)"
   ]
  },
  {
   "cell_type": "code",
   "execution_count": 3,
   "id": "1a37ac66",
   "metadata": {},
   "outputs": [],
   "source": [
    "with open(filepath_train, 'r') as f:\n",
    "    train_csv = f.read()\n",
    "\n",
    "f_str = ' <br>|</br>|</ br>|<br/>|<br />|<br><br/>|<br><br />  |\"\\w\"|;|: ' #|^([a-zA-Z]+).* |\\++.*$ ^[\"+\"]*    ,\n",
    "r_str = ''\n",
    "clean_csv = re.sub(f_str, r_str, train_csv)\n",
    "path = './Train_clean_csv1.csv' \n",
    "with open(path, 'w') as f:\n",
    "    f.write(clean_csv)"
   ]
  },
  {
   "cell_type": "code",
   "execution_count": 4,
   "id": "cfaa39e8",
   "metadata": {},
   "outputs": [
    {
     "name": "stdout",
     "output_type": "stream",
     "text": [
      "(6400, 3)\n"
     ]
    },
    {
     "data": {
      "text/html": [
       "<div>\n",
       "<style scoped>\n",
       "    .dataframe tbody tr th:only-of-type {\n",
       "        vertical-align: middle;\n",
       "    }\n",
       "\n",
       "    .dataframe tbody tr th {\n",
       "        vertical-align: top;\n",
       "    }\n",
       "\n",
       "    .dataframe thead th {\n",
       "        text-align: right;\n",
       "    }\n",
       "</style>\n",
       "<table border=\"1\" class=\"dataframe\">\n",
       "  <thead>\n",
       "    <tr style=\"text-align: right;\">\n",
       "      <th></th>\n",
       "      <th>id</th>\n",
       "      <th>text</th>\n",
       "      <th>label</th>\n",
       "    </tr>\n",
       "  </thead>\n",
       "  <tbody>\n",
       "    <tr>\n",
       "      <th>6390</th>\n",
       "      <td>6390</td>\n",
       "      <td>This movie was much better than I expected. ++...</td>\n",
       "      <td>positive</td>\n",
       "    </tr>\n",
       "    <tr>\n",
       "      <th>6391</th>\n",
       "      <td>6391</td>\n",
       "      <td>This is one of Joan Crawford's best Talkies. I...</td>\n",
       "      <td>positive</td>\n",
       "    </tr>\n",
       "    <tr>\n",
       "      <th>6392</th>\n",
       "      <td>6392</td>\n",
       "      <td>I had the privilege of seeing this film at a p...</td>\n",
       "      <td>positive</td>\n",
       "    </tr>\n",
       "    <tr>\n",
       "      <th>6393</th>\n",
       "      <td>6393</td>\n",
       "      <td>This almost documentary look at an enterprisin...</td>\n",
       "      <td>positive</td>\n",
       "    </tr>\n",
       "    <tr>\n",
       "      <th>6394</th>\n",
       "      <td>6394</td>\n",
       "      <td>So terrific, so good. I have never seen a man ...</td>\n",
       "      <td>positive</td>\n",
       "    </tr>\n",
       "    <tr>\n",
       "      <th>6395</th>\n",
       "      <td>6395</td>\n",
       "      <td>When the opening shot is U.S. Marines seriousl...</td>\n",
       "      <td>negative</td>\n",
       "    </tr>\n",
       "    <tr>\n",
       "      <th>6396</th>\n",
       "      <td>6396</td>\n",
       "      <td>This movie is not based on the bible. It compl...</td>\n",
       "      <td>negative</td>\n",
       "    </tr>\n",
       "    <tr>\n",
       "      <th>6397</th>\n",
       "      <td>6397</td>\n",
       "      <td>I came across this film by accident and wish I...</td>\n",
       "      <td>negative</td>\n",
       "    </tr>\n",
       "    <tr>\n",
       "      <th>6398</th>\n",
       "      <td>6398</td>\n",
       "      <td>80's sleazy (glam)rock is like 90's house musi...</td>\n",
       "      <td>negative</td>\n",
       "    </tr>\n",
       "    <tr>\n",
       "      <th>6399</th>\n",
       "      <td>6399</td>\n",
       "      <td>Over the many years, there are some films that...</td>\n",
       "      <td>positive</td>\n",
       "    </tr>\n",
       "  </tbody>\n",
       "</table>\n",
       "</div>"
      ],
      "text/plain": [
       "        id                                               text     label\n",
       "6390  6390  This movie was much better than I expected. ++...  positive\n",
       "6391  6391  This is one of Joan Crawford's best Talkies. I...  positive\n",
       "6392  6392  I had the privilege of seeing this film at a p...  positive\n",
       "6393  6393  This almost documentary look at an enterprisin...  positive\n",
       "6394  6394  So terrific, so good. I have never seen a man ...  positive\n",
       "6395  6395  When the opening shot is U.S. Marines seriousl...  negative\n",
       "6396  6396  This movie is not based on the bible. It compl...  negative\n",
       "6397  6397  I came across this film by accident and wish I...  negative\n",
       "6398  6398  80's sleazy (glam)rock is like 90's house musi...  negative\n",
       "6399  6399  Over the many years, there are some films that...  positive"
      ]
     },
     "execution_count": 4,
     "metadata": {},
     "output_type": "execute_result"
    }
   ],
   "source": [
    "path_name = 'Train_clean_csv1.csv'\n",
    "train_clean = pd.read_csv(path_name)\n",
    "print(train_clean.shape)\n",
    "train_clean.tail(10)\n"
   ]
  },
  {
   "cell_type": "code",
   "execution_count": 5,
   "id": "4d137393",
   "metadata": {},
   "outputs": [
    {
     "name": "stderr",
     "output_type": "stream",
     "text": [
      "<ipython-input-5-8b76e79f4bd0>:1: SettingWithCopyWarning: \n",
      "A value is trying to be set on a copy of a slice from a DataFrame\n",
      "\n",
      "See the caveats in the documentation: https://pandas.pydata.org/pandas-docs/stable/user_guide/indexing.html#returning-a-view-versus-a-copy\n",
      "  train_clean.label[train_clean.label == 'negative'] = 0\n",
      "<ipython-input-5-8b76e79f4bd0>:2: SettingWithCopyWarning: \n",
      "A value is trying to be set on a copy of a slice from a DataFrame\n",
      "\n",
      "See the caveats in the documentation: https://pandas.pydata.org/pandas-docs/stable/user_guide/indexing.html#returning-a-view-versus-a-copy\n",
      "  train_clean.label[train_clean.label == 'positive'] = 1\n"
     ]
    },
    {
     "data": {
      "text/html": [
       "<div>\n",
       "<style scoped>\n",
       "    .dataframe tbody tr th:only-of-type {\n",
       "        vertical-align: middle;\n",
       "    }\n",
       "\n",
       "    .dataframe tbody tr th {\n",
       "        vertical-align: top;\n",
       "    }\n",
       "\n",
       "    .dataframe thead th {\n",
       "        text-align: right;\n",
       "    }\n",
       "</style>\n",
       "<table border=\"1\" class=\"dataframe\">\n",
       "  <thead>\n",
       "    <tr style=\"text-align: right;\">\n",
       "      <th></th>\n",
       "      <th>id</th>\n",
       "      <th>text</th>\n",
       "      <th>label</th>\n",
       "    </tr>\n",
       "  </thead>\n",
       "  <tbody>\n",
       "    <tr>\n",
       "      <th>0</th>\n",
       "      <td>0</td>\n",
       "      <td>I have seen this movie plenty of times and I g...</td>\n",
       "      <td>1</td>\n",
       "    </tr>\n",
       "    <tr>\n",
       "      <th>1</th>\n",
       "      <td>1</td>\n",
       "      <td>Ho-hum. An inventor's(Horst Buchholz)deadly bi...</td>\n",
       "      <td>0</td>\n",
       "    </tr>\n",
       "    <tr>\n",
       "      <th>2</th>\n",
       "      <td>2</td>\n",
       "      <td>Zombie Bloodbath is a movie made by zombie fan...</td>\n",
       "      <td>1</td>\n",
       "    </tr>\n",
       "    <tr>\n",
       "      <th>3</th>\n",
       "      <td>3</td>\n",
       "      <td>I saw this on cable. Someone had to lose their...</td>\n",
       "      <td>0</td>\n",
       "    </tr>\n",
       "    <tr>\n",
       "      <th>4</th>\n",
       "      <td>4</td>\n",
       "      <td>Wow probable the worst movie i have ever seen!...</td>\n",
       "      <td>0</td>\n",
       "    </tr>\n",
       "  </tbody>\n",
       "</table>\n",
       "</div>"
      ],
      "text/plain": [
       "   id                                               text label\n",
       "0   0  I have seen this movie plenty of times and I g...     1\n",
       "1   1  Ho-hum. An inventor's(Horst Buchholz)deadly bi...     0\n",
       "2   2  Zombie Bloodbath is a movie made by zombie fan...     1\n",
       "3   3  I saw this on cable. Someone had to lose their...     0\n",
       "4   4  Wow probable the worst movie i have ever seen!...     0"
      ]
     },
     "execution_count": 5,
     "metadata": {},
     "output_type": "execute_result"
    }
   ],
   "source": [
    "train_clean.label[train_clean.label == 'negative'] = 0\n",
    "train_clean.label[train_clean.label == 'positive'] = 1\n",
    "train_clean.head(5)"
   ]
  },
  {
   "cell_type": "code",
   "execution_count": 6,
   "id": "c2131244",
   "metadata": {},
   "outputs": [
    {
     "name": "stdout",
     "output_type": "stream",
     "text": [
      "(1600, 3)\n"
     ]
    },
    {
     "data": {
      "text/html": [
       "<div>\n",
       "<style scoped>\n",
       "    .dataframe tbody tr th:only-of-type {\n",
       "        vertical-align: middle;\n",
       "    }\n",
       "\n",
       "    .dataframe tbody tr th {\n",
       "        vertical-align: top;\n",
       "    }\n",
       "\n",
       "    .dataframe thead th {\n",
       "        text-align: right;\n",
       "    }\n",
       "</style>\n",
       "<table border=\"1\" class=\"dataframe\">\n",
       "  <thead>\n",
       "    <tr style=\"text-align: right;\">\n",
       "      <th></th>\n",
       "      <th>id</th>\n",
       "      <th>text</th>\n",
       "      <th>label</th>\n",
       "    </tr>\n",
       "  </thead>\n",
       "  <tbody>\n",
       "    <tr>\n",
       "      <th>1590</th>\n",
       "      <td>1590</td>\n",
       "      <td>Flashes of lightning; a sprawling cemetery; th...</td>\n",
       "      <td>positive</td>\n",
       "    </tr>\n",
       "    <tr>\n",
       "      <th>1591</th>\n",
       "      <td>1591</td>\n",
       "      <td>The movie is okay, it has it's moments, the mu...</td>\n",
       "      <td>positive</td>\n",
       "    </tr>\n",
       "    <tr>\n",
       "      <th>1592</th>\n",
       "      <td>1592</td>\n",
       "      <td>Great entertainment from start to the end. Won...</td>\n",
       "      <td>positive</td>\n",
       "    </tr>\n",
       "    <tr>\n",
       "      <th>1593</th>\n",
       "      <td>1593</td>\n",
       "      <td>I say \"flick\" because this doesn't deserve the...</td>\n",
       "      <td>negative</td>\n",
       "    </tr>\n",
       "    <tr>\n",
       "      <th>1594</th>\n",
       "      <td>1594</td>\n",
       "      <td>I did not like Chandni Bar from the same direc...</td>\n",
       "      <td>positive</td>\n",
       "    </tr>\n",
       "    <tr>\n",
       "      <th>1595</th>\n",
       "      <td>1595</td>\n",
       "      <td>Old Ed was active back in the late 1950's He w...</td>\n",
       "      <td>negative</td>\n",
       "    </tr>\n",
       "    <tr>\n",
       "      <th>1596</th>\n",
       "      <td>1596</td>\n",
       "      <td>Fido is a story about more well mannered zombi...</td>\n",
       "      <td>positive</td>\n",
       "    </tr>\n",
       "    <tr>\n",
       "      <th>1597</th>\n",
       "      <td>1597</td>\n",
       "      <td>This documentary film is based on incomplete c...</td>\n",
       "      <td>negative</td>\n",
       "    </tr>\n",
       "    <tr>\n",
       "      <th>1598</th>\n",
       "      <td>1598</td>\n",
       "      <td>This is a perfectly watchable adventurous movi...</td>\n",
       "      <td>positive</td>\n",
       "    </tr>\n",
       "    <tr>\n",
       "      <th>1599</th>\n",
       "      <td>1599</td>\n",
       "      <td>The movie has taken a little flack for playing...</td>\n",
       "      <td>positive</td>\n",
       "    </tr>\n",
       "  </tbody>\n",
       "</table>\n",
       "</div>"
      ],
      "text/plain": [
       "        id                                               text     label\n",
       "1590  1590  Flashes of lightning; a sprawling cemetery; th...  positive\n",
       "1591  1591  The movie is okay, it has it's moments, the mu...  positive\n",
       "1592  1592  Great entertainment from start to the end. Won...  positive\n",
       "1593  1593  I say \"flick\" because this doesn't deserve the...  negative\n",
       "1594  1594  I did not like Chandni Bar from the same direc...  positive\n",
       "1595  1595  Old Ed was active back in the late 1950's He w...  negative\n",
       "1596  1596  Fido is a story about more well mannered zombi...  positive\n",
       "1597  1597  This documentary film is based on incomplete c...  negative\n",
       "1598  1598  This is a perfectly watchable adventurous movi...  positive\n",
       "1599  1599  The movie has taken a little flack for playing...  positive"
      ]
     },
     "execution_count": 6,
     "metadata": {},
     "output_type": "execute_result"
    }
   ],
   "source": [
    "filepath_test = 'val_split.csv'\n",
    "df_test = pd.read_csv(filepath_test)\n",
    "print(df_test.shape)\n",
    "df_test.tail(10)"
   ]
  },
  {
   "cell_type": "code",
   "execution_count": 7,
   "id": "c12ce849",
   "metadata": {},
   "outputs": [],
   "source": [
    "with open(filepath_test, 'r') as f:\n",
    "    test_csv = f.read()\n",
    "\n",
    "f_str = '<br>|</br>|</ br>|<br/>|<br />|<br><br/>|<br><br /> |\"\\w\"|;|:'\n",
    "r_str = ''\n",
    "val_clean_csv = re.sub(f_str, r_str, test_csv)\n",
    "path1 = './val_clean_csv1.csv'\n",
    "with open(path1, 'w') as f:\n",
    "    f.write(val_clean_csv)"
   ]
  },
  {
   "cell_type": "code",
   "execution_count": 8,
   "id": "71731c83",
   "metadata": {},
   "outputs": [
    {
     "name": "stdout",
     "output_type": "stream",
     "text": [
      "(1600, 3)\n"
     ]
    },
    {
     "data": {
      "text/html": [
       "<div>\n",
       "<style scoped>\n",
       "    .dataframe tbody tr th:only-of-type {\n",
       "        vertical-align: middle;\n",
       "    }\n",
       "\n",
       "    .dataframe tbody tr th {\n",
       "        vertical-align: top;\n",
       "    }\n",
       "\n",
       "    .dataframe thead th {\n",
       "        text-align: right;\n",
       "    }\n",
       "</style>\n",
       "<table border=\"1\" class=\"dataframe\">\n",
       "  <thead>\n",
       "    <tr style=\"text-align: right;\">\n",
       "      <th></th>\n",
       "      <th>id</th>\n",
       "      <th>text</th>\n",
       "      <th>label</th>\n",
       "    </tr>\n",
       "  </thead>\n",
       "  <tbody>\n",
       "    <tr>\n",
       "      <th>1590</th>\n",
       "      <td>1590</td>\n",
       "      <td>Flashes of lightning a sprawling cemetery the ...</td>\n",
       "      <td>positive</td>\n",
       "    </tr>\n",
       "    <tr>\n",
       "      <th>1591</th>\n",
       "      <td>1591</td>\n",
       "      <td>The movie is okay, it has it's moments, the mu...</td>\n",
       "      <td>positive</td>\n",
       "    </tr>\n",
       "    <tr>\n",
       "      <th>1592</th>\n",
       "      <td>1592</td>\n",
       "      <td>Great entertainment from start to the end. Won...</td>\n",
       "      <td>positive</td>\n",
       "    </tr>\n",
       "    <tr>\n",
       "      <th>1593</th>\n",
       "      <td>1593</td>\n",
       "      <td>I say \"flick\" because this doesn't deserve the...</td>\n",
       "      <td>negative</td>\n",
       "    </tr>\n",
       "    <tr>\n",
       "      <th>1594</th>\n",
       "      <td>1594</td>\n",
       "      <td>I did not like Chandni Bar from the same direc...</td>\n",
       "      <td>positive</td>\n",
       "    </tr>\n",
       "    <tr>\n",
       "      <th>1595</th>\n",
       "      <td>1595</td>\n",
       "      <td>Old Ed was active back in the late 1950's He w...</td>\n",
       "      <td>negative</td>\n",
       "    </tr>\n",
       "    <tr>\n",
       "      <th>1596</th>\n",
       "      <td>1596</td>\n",
       "      <td>Fido is a story about more well mannered zombi...</td>\n",
       "      <td>positive</td>\n",
       "    </tr>\n",
       "    <tr>\n",
       "      <th>1597</th>\n",
       "      <td>1597</td>\n",
       "      <td>This documentary film is based on incomplete c...</td>\n",
       "      <td>negative</td>\n",
       "    </tr>\n",
       "    <tr>\n",
       "      <th>1598</th>\n",
       "      <td>1598</td>\n",
       "      <td>This is a perfectly watchable adventurous movi...</td>\n",
       "      <td>positive</td>\n",
       "    </tr>\n",
       "    <tr>\n",
       "      <th>1599</th>\n",
       "      <td>1599</td>\n",
       "      <td>The movie has taken a little flack for playing...</td>\n",
       "      <td>positive</td>\n",
       "    </tr>\n",
       "  </tbody>\n",
       "</table>\n",
       "</div>"
      ],
      "text/plain": [
       "        id                                               text     label\n",
       "1590  1590  Flashes of lightning a sprawling cemetery the ...  positive\n",
       "1591  1591  The movie is okay, it has it's moments, the mu...  positive\n",
       "1592  1592  Great entertainment from start to the end. Won...  positive\n",
       "1593  1593  I say \"flick\" because this doesn't deserve the...  negative\n",
       "1594  1594  I did not like Chandni Bar from the same direc...  positive\n",
       "1595  1595  Old Ed was active back in the late 1950's He w...  negative\n",
       "1596  1596  Fido is a story about more well mannered zombi...  positive\n",
       "1597  1597  This documentary film is based on incomplete c...  negative\n",
       "1598  1598  This is a perfectly watchable adventurous movi...  positive\n",
       "1599  1599  The movie has taken a little flack for playing...  positive"
      ]
     },
     "execution_count": 8,
     "metadata": {},
     "output_type": "execute_result"
    }
   ],
   "source": [
    "path_name_t = 'val_clean_csv1.csv'\n",
    "\n",
    "test_clean = pd.read_csv(path_name_t)\n",
    "print(test_clean.shape)\n",
    "test_clean.tail(10)\n"
   ]
  },
  {
   "cell_type": "code",
   "execution_count": 9,
   "id": "78e1adc8",
   "metadata": {},
   "outputs": [
    {
     "name": "stderr",
     "output_type": "stream",
     "text": [
      "<ipython-input-9-1d867008acec>:1: SettingWithCopyWarning: \n",
      "A value is trying to be set on a copy of a slice from a DataFrame\n",
      "\n",
      "See the caveats in the documentation: https://pandas.pydata.org/pandas-docs/stable/user_guide/indexing.html#returning-a-view-versus-a-copy\n",
      "  test_clean.label[test_clean.label == 'negative'] = 0\n",
      "<ipython-input-9-1d867008acec>:2: SettingWithCopyWarning: \n",
      "A value is trying to be set on a copy of a slice from a DataFrame\n",
      "\n",
      "See the caveats in the documentation: https://pandas.pydata.org/pandas-docs/stable/user_guide/indexing.html#returning-a-view-versus-a-copy\n",
      "  test_clean.label[test_clean.label == 'positive'] = 1\n"
     ]
    },
    {
     "data": {
      "text/html": [
       "<div>\n",
       "<style scoped>\n",
       "    .dataframe tbody tr th:only-of-type {\n",
       "        vertical-align: middle;\n",
       "    }\n",
       "\n",
       "    .dataframe tbody tr th {\n",
       "        vertical-align: top;\n",
       "    }\n",
       "\n",
       "    .dataframe thead th {\n",
       "        text-align: right;\n",
       "    }\n",
       "</style>\n",
       "<table border=\"1\" class=\"dataframe\">\n",
       "  <thead>\n",
       "    <tr style=\"text-align: right;\">\n",
       "      <th></th>\n",
       "      <th>id</th>\n",
       "      <th>text</th>\n",
       "      <th>label</th>\n",
       "    </tr>\n",
       "  </thead>\n",
       "  <tbody>\n",
       "    <tr>\n",
       "      <th>0</th>\n",
       "      <td>0</td>\n",
       "      <td>Mighty Like A Moose is one of many short films...</td>\n",
       "      <td>1</td>\n",
       "    </tr>\n",
       "    <tr>\n",
       "      <th>1</th>\n",
       "      <td>1</td>\n",
       "      <td>Simply not the quality I expected from Morris ...</td>\n",
       "      <td>0</td>\n",
       "    </tr>\n",
       "    <tr>\n",
       "      <th>2</th>\n",
       "      <td>2</td>\n",
       "      <td>Just saw the World Preem of Fido at the Toront...</td>\n",
       "      <td>1</td>\n",
       "    </tr>\n",
       "    <tr>\n",
       "      <th>3</th>\n",
       "      <td>3</td>\n",
       "      <td>...this is a classic with so many great dialog...</td>\n",
       "      <td>1</td>\n",
       "    </tr>\n",
       "    <tr>\n",
       "      <th>4</th>\n",
       "      <td>4</td>\n",
       "      <td>It's hard to believe that in 1997 David Duchov...</td>\n",
       "      <td>0</td>\n",
       "    </tr>\n",
       "  </tbody>\n",
       "</table>\n",
       "</div>"
      ],
      "text/plain": [
       "   id                                               text label\n",
       "0   0  Mighty Like A Moose is one of many short films...     1\n",
       "1   1  Simply not the quality I expected from Morris ...     0\n",
       "2   2  Just saw the World Preem of Fido at the Toront...     1\n",
       "3   3  ...this is a classic with so many great dialog...     1\n",
       "4   4  It's hard to believe that in 1997 David Duchov...     0"
      ]
     },
     "execution_count": 9,
     "metadata": {},
     "output_type": "execute_result"
    }
   ],
   "source": [
    "test_clean.label[test_clean.label == 'negative'] = 0\n",
    "test_clean.label[test_clean.label == 'positive'] = 1\n",
    "test_clean.head(5)"
   ]
  },
  {
   "cell_type": "code",
   "execution_count": 10,
   "id": "43d099d9",
   "metadata": {},
   "outputs": [
    {
     "name": "stdout",
     "output_type": "stream",
     "text": [
      "        id                                               text label\n",
      "0        0  I have seen this movie plenty of times and I g...     1\n",
      "1        1  Ho-hum. An inventor's(Horst Buchholz)deadly bi...     0\n",
      "2        2  Zombie Bloodbath is a movie made by zombie fan...     1\n",
      "3        3  I saw this on cable. Someone had to lose their...     0\n",
      "4        4  Wow probable the worst movie i have ever seen!...     0\n",
      "...    ...                                                ...   ...\n",
      "6395  6395  When the opening shot is U.S. Marines seriousl...     0\n",
      "6396  6396  This movie is not based on the bible. It compl...     0\n",
      "6397  6397  I came across this film by accident and wish I...     0\n",
      "6398  6398  80's sleazy (glam)rock is like 90's house musi...     0\n",
      "6399  6399  Over the many years, there are some films that...     1\n",
      "\n",
      "[6400 rows x 3 columns]\n",
      "        id                                               text label\n",
      "0        0  Mighty Like A Moose is one of many short films...     1\n",
      "1        1  Simply not the quality I expected from Morris ...     0\n",
      "2        2  Just saw the World Preem of Fido at the Toront...     1\n",
      "3        3  ...this is a classic with so many great dialog...     1\n",
      "4        4  It's hard to believe that in 1997 David Duchov...     0\n",
      "...    ...                                                ...   ...\n",
      "1595  1595  Old Ed was active back in the late 1950's He w...     0\n",
      "1596  1596  Fido is a story about more well mannered zombi...     1\n",
      "1597  1597  This documentary film is based on incomplete c...     0\n",
      "1598  1598  This is a perfectly watchable adventurous movi...     1\n",
      "1599  1599  The movie has taken a little flack for playing...     1\n",
      "\n",
      "[1600 rows x 3 columns]\n"
     ]
    }
   ],
   "source": [
    "print(train_clean)\n",
    "print(test_clean)"
   ]
  },
  {
   "cell_type": "code",
   "execution_count": 11,
   "id": "b608898d",
   "metadata": {},
   "outputs": [],
   "source": [
    "#PART 2"
   ]
  },
  {
   "cell_type": "code",
   "execution_count": 12,
   "id": "4d69a51d",
   "metadata": {},
   "outputs": [
    {
     "name": "stdout",
     "output_type": "stream",
     "text": [
      "(6400, 45622)\n",
      "<class 'scipy.sparse.csr.csr_matrix'>\n",
      "[[0 0 0 ... 0 0 0]\n",
      " [0 0 0 ... 0 0 0]\n",
      " [0 0 0 ... 0 0 0]\n",
      " ...\n",
      " [0 0 0 ... 0 0 0]\n",
      " [0 0 0 ... 0 0 0]\n",
      " [0 0 0 ... 0 0 0]]\n"
     ]
    }
   ],
   "source": [
    "\n",
    "\n",
    "#Frequency Count\n",
    "#Train_CSV\n",
    "\n",
    "train_vectorizer = CountVectorizer()\n",
    "train_vectorizer.fit(train_clean.text)\n",
    "#print(train_vectorizer.vocabulary_)\n",
    "train_vector = train_vectorizer.transform(train_clean.text)\n",
    "print(train_vector.shape)\n",
    "print(type(train_vector))\n",
    "\n",
    "print(train_vector.toarray())\n",
    "\n"
   ]
  },
  {
   "cell_type": "code",
   "execution_count": 13,
   "id": "c29ab9f1",
   "metadata": {},
   "outputs": [
    {
     "name": "stdout",
     "output_type": "stream",
     "text": [
      "(1600, 45622)\n",
      "<class 'scipy.sparse.csr.csr_matrix'>\n",
      "[[0 0 0 ... 0 0 0]\n",
      " [0 0 0 ... 0 0 0]\n",
      " [0 0 0 ... 0 0 0]\n",
      " ...\n",
      " [0 0 0 ... 0 0 0]\n",
      " [0 4 0 ... 0 0 0]\n",
      " [0 0 0 ... 0 0 0]]\n"
     ]
    }
   ],
   "source": [
    "test_vector = train_vectorizer.transform(test_clean.text)\n",
    "print(test_vector.shape)\n",
    "print(type(test_vector))\n",
    "print(test_vector.toarray())\n"
   ]
  },
  {
   "cell_type": "code",
   "execution_count": 14,
   "id": "3ab2001c",
   "metadata": {},
   "outputs": [
    {
     "name": "stdout",
     "output_type": "stream",
     "text": [
      "(6400, 45622)\n",
      "[[0. 0. 0. ... 0. 0. 0.]\n",
      " [0. 0. 0. ... 0. 0. 0.]\n",
      " [0. 0. 0. ... 0. 0. 0.]\n",
      " ...\n",
      " [0. 0. 0. ... 0. 0. 0.]\n",
      " [0. 0. 0. ... 0. 0. 0.]\n",
      " [0. 0. 0. ... 0. 0. 0.]]\n"
     ]
    }
   ],
   "source": [
    "# TFIDF Count\n",
    "#Train_CSV\n",
    "\n",
    "\n",
    "\n",
    "from sklearn.feature_extraction.text import TfidfVectorizer\n",
    "\n",
    "train_vectorizer_tfidf = TfidfVectorizer(use_idf=True)\n",
    "fitted_vectorizer=train_vectorizer_tfidf.fit(train_clean.text)\n",
    "\n",
    "train_vector_tfidf=fitted_vectorizer.transform(train_clean.text)\n",
    "print(train_vector_tfidf.shape)\n",
    "print(train_vector_tfidf.toarray())"
   ]
  },
  {
   "cell_type": "code",
   "execution_count": 15,
   "id": "d1548206",
   "metadata": {},
   "outputs": [
    {
     "name": "stdout",
     "output_type": "stream",
     "text": [
      "(1600, 45622)\n",
      "[[0.         0.         0.         ... 0.         0.         0.        ]\n",
      " [0.         0.         0.         ... 0.         0.         0.        ]\n",
      " [0.         0.         0.         ... 0.         0.         0.        ]\n",
      " ...\n",
      " [0.         0.         0.         ... 0.         0.         0.        ]\n",
      " [0.         0.19310835 0.         ... 0.         0.         0.        ]\n",
      " [0.         0.         0.         ... 0.         0.         0.        ]]\n"
     ]
    },
    {
     "data": {
      "text/plain": [
       "'test_vectorizer_tfidf = TfidfVectorizer()\\n\\ntest_vectorizer_tfidf.fit(test_clean.review)\\n\\n#print(test_vectorizer_tfidf.vocabulary_)\\nprint(test_vectorizer_tfidf.idf_)\\ntest_vector_tfidf = test_vectorizer_tfidf.transform([test_clean.review[0]])\\nprint(test_vector_tfidf.shape)\\nprint(test_vector_tfidf.toarray())'"
      ]
     },
     "execution_count": 15,
     "metadata": {},
     "output_type": "execute_result"
    }
   ],
   "source": [
    "# TFIDF Count\n",
    "#Test_CSV\n",
    "\n",
    "\n",
    "test_vector_tfidf=fitted_vectorizer.transform(test_clean.text)\n",
    "print(test_vector_tfidf.shape)\n",
    "print(test_vector_tfidf.toarray())\n",
    "\n"
   ]
  },
  {
   "cell_type": "code",
   "execution_count": 16,
   "id": "880db5ad",
   "metadata": {},
   "outputs": [
    {
     "name": "stdout",
     "output_type": "stream",
     "text": [
      "(6400, 1048576)\n",
      "[[0. 0. 0. ... 0. 0. 0.]\n",
      " [0. 0. 0. ... 0. 0. 0.]\n",
      " [0. 0. 0. ... 0. 0. 0.]\n",
      " ...\n",
      " [0. 0. 0. ... 0. 0. 0.]\n",
      " [0. 0. 0. ... 0. 0. 0.]\n",
      " [0. 0. 0. ... 0. 0. 0.]]\n"
     ]
    }
   ],
   "source": [
    "#Binary Occurance\n",
    "#Train_CSV\n",
    "\n",
    "\n",
    "train_vectorizer_b = HashingVectorizer(binary = True)\n",
    "\n",
    "train_vector_b = train_vectorizer_b.transform(train_clean.text)\n",
    "\n",
    "print(train_vector_b.shape)\n",
    "print(train_vector_b.toarray())"
   ]
  },
  {
   "cell_type": "code",
   "execution_count": 17,
   "id": "ec55e15b",
   "metadata": {},
   "outputs": [
    {
     "name": "stdout",
     "output_type": "stream",
     "text": [
      "(1600, 1048576)\n",
      "[[0. 0. 0. ... 0. 0. 0.]\n",
      " [0. 0. 0. ... 0. 0. 0.]\n",
      " [0. 0. 0. ... 0. 0. 0.]\n",
      " ...\n",
      " [0. 0. 0. ... 0. 0. 0.]\n",
      " [0. 0. 0. ... 0. 0. 0.]\n",
      " [0. 0. 0. ... 0. 0. 0.]]\n"
     ]
    },
    {
     "data": {
      "text/plain": [
       "'\\ntest_vectorizer_b = HashingVectorizer(binary = True)\\n\\ntest_vector_b = test_vectorizer_b.transform(test_clean.review)\\n\\nprint(test_vector_b.shape)\\nprint(test_vector_b.toarray())'"
      ]
     },
     "execution_count": 17,
     "metadata": {},
     "output_type": "execute_result"
    }
   ],
   "source": [
    "#Binary Occurance\n",
    "#Test_CSV\n",
    "\n",
    "test_vector_b = train_vectorizer_b.transform(test_clean.text)\n",
    "print(test_vector_b.shape)\n",
    "print(test_vector_b.toarray())\n"
   ]
  },
  {
   "cell_type": "code",
   "execution_count": null,
   "id": "4e7296e9",
   "metadata": {},
   "outputs": [],
   "source": []
  },
  {
   "cell_type": "code",
   "execution_count": 18,
   "id": "1361f8b0",
   "metadata": {},
   "outputs": [],
   "source": [
    "from sklearn.metrics import accuracy_score, f1_score, precision_score, recall_score, classification_report, confusion_matrix\n"
   ]
  },
  {
   "cell_type": "code",
   "execution_count": 19,
   "id": "abdfd91d",
   "metadata": {},
   "outputs": [
    {
     "name": "stdout",
     "output_type": "stream",
     "text": [
      "(6400, 45622)\n",
      "(6400,)\n",
      "(1600, 45622)\n",
      "(1600,)\n"
     ]
    }
   ],
   "source": [
    "#Frequency Vector\n",
    "\n",
    "y_train = train_clean.label\n",
    "X_train = train_vector\n",
    "\n",
    "y_test = test_clean.label\n",
    "X_test = test_vector\n",
    "\n",
    "\n",
    "#X_train = X_train.todense()\n",
    "X_train = X_train.toarray()\n",
    "y_train=y_train.astype('int')\n",
    "\n",
    "\n",
    "#X_test = X_test.todense()\n",
    "X_test = X_test.toarray()\n",
    "y_test=y_test.astype('int')\n",
    "\n",
    "\n",
    "print(X_train.shape)\n",
    "print(y_train.shape)\n",
    "print(X_test.shape)\n",
    "print(y_test.shape)\n",
    "\n"
   ]
  },
  {
   "cell_type": "code",
   "execution_count": 41,
   "id": "000b9b8b",
   "metadata": {},
   "outputs": [
    {
     "name": "stdout",
     "output_type": "stream",
     "text": [
      "[1 1 1 ... 0 1 1]\n",
      "\n",
      " Accuracy = \n",
      "0.829375\n"
     ]
    }
   ],
   "source": [
    "\"\"\" Frequency Multinomial NB\"\"\"\n",
    "\n",
    "f_mnb = MultinomialNB()\n",
    "\n",
    "f_mnb.fit(X_train, y_train)\n",
    "y_pred = f_mnb.predict(X_test)\n",
    "#y_pred = pd.DataFrame(y_pred, columns=['close_label_day_5']).to_csv('y_pred.csv') RUN ON SHELL\n",
    "print(y_pred)\n",
    "accuracy = metrics.accuracy_score(y_test, y_pred)\n",
    "print (\"\\n Accuracy = \")\n",
    "print(accuracy)"
   ]
  },
  {
   "cell_type": "code",
   "execution_count": 42,
   "id": "88e45032",
   "metadata": {},
   "outputs": [
    {
     "name": "stdout",
     "output_type": "stream",
     "text": [
      "Macro Precision_score: 0.8300066533599468\n",
      "Macro Recall_score: 0.829375\n",
      "Macro F1_score: 0.8292933141835449\n"
     ]
    }
   ],
   "source": [
    "\"\"\" Frequency Multinomial NB\"\"\"\n",
    "\n",
    "print(\"Macro Precision_score:\", precision_score(y_test, y_pred, average='macro'))\n",
    "print(\"Macro Recall_score:\", recall_score(y_test, y_pred, average='macro'))\n",
    "print(\"Macro F1_score:\", f1_score(y_test, y_pred, average='macro'))"
   ]
  },
  {
   "cell_type": "code",
   "execution_count": 43,
   "id": "2a0e9e94",
   "metadata": {},
   "outputs": [
    {
     "name": "stdout",
     "output_type": "stream",
     "text": [
      "[1 0 1 ... 0 0 1]\n",
      "\n",
      " Accuracy = \n",
      "0.630625\n"
     ]
    }
   ],
   "source": [
    "\"\"\" Frequency Gaussian NB\"\"\"\n",
    "\n",
    "f_gnb = GaussianNB()\n",
    "\n",
    "f_gnb.fit(X_train, y_train)\n",
    "y_pred = f_gnb.predict(X_test)\n",
    "#y_pred = pd.DataFrame(y_pred, columns=['close_label_day_5']).to_csv('y_pred.csv') RUN ON SHELL\n",
    "print(y_pred)\n",
    "accuracy = metrics.accuracy_score(y_test, y_pred)\n",
    "print (\"\\n Accuracy = \")\n",
    "print(accuracy)"
   ]
  },
  {
   "cell_type": "code",
   "execution_count": 44,
   "id": "2cf4e1d2",
   "metadata": {},
   "outputs": [
    {
     "name": "stdout",
     "output_type": "stream",
     "text": [
      "Macro Precision_score: 0.6326565100864965\n",
      "Macro Recall_score: 0.630625\n",
      "Macro F1_score: 0.6292054071074453\n"
     ]
    },
    {
     "data": {
      "text/plain": [
       "' Frequency Gaussian NB'"
      ]
     },
     "execution_count": 44,
     "metadata": {},
     "output_type": "execute_result"
    }
   ],
   "source": [
    "\"\"\" Frequency Gaussian NB\"\"\"\n",
    "\n",
    "print(\"Macro Precision_score:\", precision_score(y_test, y_pred, average='macro'))\n",
    "print(\"Macro Recall_score:\", recall_score(y_test, y_pred, average='macro'))\n",
    "print(\"Macro F1_score:\", f1_score(y_test, y_pred, average='macro'))\n",
    "\n",
    "\n",
    "\"\"\" Frequency Gaussian NB\"\"\""
   ]
  },
  {
   "cell_type": "code",
   "execution_count": 24,
   "id": "52f0fa44",
   "metadata": {},
   "outputs": [
    {
     "name": "stdout",
     "output_type": "stream",
     "text": [
      "(6400, 45622)\n",
      "(6400,)\n",
      "(1600, 45622)\n",
      "(1600,)\n"
     ]
    }
   ],
   "source": [
    "#TFIDF Vector\n",
    "\n",
    "y_train_tf = train_clean.label\n",
    "X_train_tf = train_vector_tfidf\n",
    "\n",
    "y_test_tf = test_clean.label\n",
    "X_test_tf = test_vector_tfidf\n",
    "\n",
    "\n",
    "#X_train = X_train.todense()\n",
    "X_train_tf = X_train_tf.toarray()\n",
    "y_train_tf=y_train_tf.astype('int')\n",
    "\n",
    "\n",
    "#X_test = X_test.todense()\n",
    "X_test_tf = X_test_tf.toarray()\n",
    "y_test_tf=y_test_tf.astype('int')\n",
    "\n",
    "\n",
    "print(X_train_tf.shape)\n",
    "print(y_train_tf.shape)\n",
    "print(X_test_tf.shape)\n",
    "print(y_test_tf.shape)\n",
    "\n"
   ]
  },
  {
   "cell_type": "code",
   "execution_count": 45,
   "id": "511d7353",
   "metadata": {},
   "outputs": [
    {
     "name": "stdout",
     "output_type": "stream",
     "text": [
      "[1 1 1 ... 0 1 1]\n",
      "\n",
      " Accuracy = \n",
      "0.84375\n"
     ]
    }
   ],
   "source": [
    "\"\"\" TFIDF Multinomial NB\"\"\"\n",
    "\n",
    "tf_Mnb = MultinomialNB()\n",
    "\n",
    "tf_Mnb.fit(X_train_tf, y_train_tf)\n",
    "y_pred_tf = tf_Mnb.predict(X_test_tf)\n",
    "#y_pred = pd.DataFrame(y_pred, columns=['close_label_day_5']).to_csv('y_pred.csv') RUN ON SHELL\n",
    "print(y_pred_tf)\n",
    "accuracy_tf = metrics.accuracy_score(y_test_tf, y_pred_tf)\n",
    "print (\"\\n Accuracy = \")\n",
    "print(accuracy_tf)"
   ]
  },
  {
   "cell_type": "code",
   "execution_count": 46,
   "id": "82254aba",
   "metadata": {},
   "outputs": [
    {
     "name": "stdout",
     "output_type": "stream",
     "text": [
      "Macro Precision_score: 0.8473998698829579\n",
      "Macro Recall_score: 0.84375\n",
      "Macro F1_score: 0.8433385188283602\n"
     ]
    }
   ],
   "source": [
    "\"\"\" TFIDF Multinomial NB\"\"\"\n",
    "\n",
    "print(\"Macro Precision_score:\", precision_score(y_test_tf, y_pred_tf, average='macro'))\n",
    "print(\"Macro Recall_score:\", recall_score(y_test_tf, y_pred_tf, average='macro'))\n",
    "print(\"Macro F1_score:\", f1_score(y_test_tf, y_pred_tf, average='macro'))"
   ]
  },
  {
   "cell_type": "code",
   "execution_count": 47,
   "id": "21c6bed4",
   "metadata": {},
   "outputs": [
    {
     "name": "stdout",
     "output_type": "stream",
     "text": [
      "[1 0 1 ... 0 0 1]\n",
      "\n",
      " Accuracy = \n",
      "0.621875\n"
     ]
    }
   ],
   "source": [
    "\"\"\" TFIDF Gaussian NB\"\"\"\n",
    "\n",
    "tf_gnb = GaussianNB()\n",
    "\n",
    "tf_gnb.fit(X_train_tf, y_train_tf)\n",
    "y_pred_tf = tf_gnb.predict(X_test_tf)\n",
    "#y_pred = pd.DataFrame(y_pred, columns=['close_label_day_5']).to_csv('y_pred.csv') RUN ON SHELL\n",
    "print(y_pred_tf)\n",
    "accuracy_tf = metrics.accuracy_score(y_test_tf, y_pred_tf)\n",
    "print (\"\\n Accuracy = \")\n",
    "print(accuracy_tf)"
   ]
  },
  {
   "cell_type": "code",
   "execution_count": 48,
   "id": "4bcf3937",
   "metadata": {},
   "outputs": [
    {
     "name": "stdout",
     "output_type": "stream",
     "text": [
      "Macro Precision_score: 0.6219178617482708\n",
      "Macro Recall_score: 0.621875\n",
      "Macro F1_score: 0.6218417634362394\n"
     ]
    },
    {
     "data": {
      "text/plain": [
       "' TFIDF Gaussian NB'"
      ]
     },
     "execution_count": 48,
     "metadata": {},
     "output_type": "execute_result"
    }
   ],
   "source": [
    "\"\"\" TFIDF Gaussian NB\"\"\"\n",
    "\n",
    "print(\"Macro Precision_score:\", precision_score(y_test_tf, y_pred_tf, average='macro'))\n",
    "print(\"Macro Recall_score:\", recall_score(y_test_tf, y_pred_tf, average='macro'))\n",
    "print(\"Macro F1_score:\", f1_score(y_test_tf, y_pred_tf, average='macro'))\n",
    "\n",
    "\"\"\" TFIDF Gaussian NB\"\"\""
   ]
  },
  {
   "cell_type": "code",
   "execution_count": null,
   "id": "127ec4ba",
   "metadata": {},
   "outputs": [],
   "source": []
  },
  {
   "cell_type": "code",
   "execution_count": 31,
   "id": "bd516ba5",
   "metadata": {},
   "outputs": [
    {
     "name": "stdout",
     "output_type": "stream",
     "text": [
      "(2000, 2)\n"
     ]
    },
    {
     "data": {
      "text/html": [
       "<div>\n",
       "<style scoped>\n",
       "    .dataframe tbody tr th:only-of-type {\n",
       "        vertical-align: middle;\n",
       "    }\n",
       "\n",
       "    .dataframe tbody tr th {\n",
       "        vertical-align: top;\n",
       "    }\n",
       "\n",
       "    .dataframe thead th {\n",
       "        text-align: right;\n",
       "    }\n",
       "</style>\n",
       "<table border=\"1\" class=\"dataframe\">\n",
       "  <thead>\n",
       "    <tr style=\"text-align: right;\">\n",
       "      <th></th>\n",
       "      <th>id</th>\n",
       "      <th>text</th>\n",
       "    </tr>\n",
       "  </thead>\n",
       "  <tbody>\n",
       "    <tr>\n",
       "      <th>1990</th>\n",
       "      <td>1990</td>\n",
       "      <td>The antiwar musical \"Hair\" is my number one cu...</td>\n",
       "    </tr>\n",
       "    <tr>\n",
       "      <th>1991</th>\n",
       "      <td>1991</td>\n",
       "      <td>Just lovely. It is long. No climax. Don't wait...</td>\n",
       "    </tr>\n",
       "    <tr>\n",
       "      <th>1992</th>\n",
       "      <td>1992</td>\n",
       "      <td>I'm impressed that 'Hail the Woman' was made a...</td>\n",
       "    </tr>\n",
       "    <tr>\n",
       "      <th>1993</th>\n",
       "      <td>1993</td>\n",
       "      <td>Although the video box for many copies of this...</td>\n",
       "    </tr>\n",
       "    <tr>\n",
       "      <th>1994</th>\n",
       "      <td>1994</td>\n",
       "      <td>This is the most depressing film I have ever s...</td>\n",
       "    </tr>\n",
       "    <tr>\n",
       "      <th>1995</th>\n",
       "      <td>1995</td>\n",
       "      <td>I really like Traci Lords. She may not be the ...</td>\n",
       "    </tr>\n",
       "    <tr>\n",
       "      <th>1996</th>\n",
       "      <td>1996</td>\n",
       "      <td>I saw this movie because every review I read o...</td>\n",
       "    </tr>\n",
       "    <tr>\n",
       "      <th>1997</th>\n",
       "      <td>1997</td>\n",
       "      <td>After a long run in the West End this charming...</td>\n",
       "    </tr>\n",
       "    <tr>\n",
       "      <th>1998</th>\n",
       "      <td>1998</td>\n",
       "      <td>I guess if a film has magic, I don't need it t...</td>\n",
       "    </tr>\n",
       "    <tr>\n",
       "      <th>1999</th>\n",
       "      <td>1999</td>\n",
       "      <td>As a camera operator, I couldn't help but admi...</td>\n",
       "    </tr>\n",
       "  </tbody>\n",
       "</table>\n",
       "</div>"
      ],
      "text/plain": [
       "        id                                               text\n",
       "1990  1990  The antiwar musical \"Hair\" is my number one cu...\n",
       "1991  1991  Just lovely. It is long. No climax. Don't wait...\n",
       "1992  1992  I'm impressed that 'Hail the Woman' was made a...\n",
       "1993  1993  Although the video box for many copies of this...\n",
       "1994  1994  This is the most depressing film I have ever s...\n",
       "1995  1995  I really like Traci Lords. She may not be the ...\n",
       "1996  1996  I saw this movie because every review I read o...\n",
       "1997  1997  After a long run in the West End this charming...\n",
       "1998  1998  I guess if a film has magic, I don't need it t...\n",
       "1999  1999  As a camera operator, I couldn't help but admi..."
      ]
     },
     "execution_count": 31,
     "metadata": {},
     "output_type": "execute_result"
    }
   ],
   "source": [
    "\n",
    "\n",
    "filepath_pred = 'test_split.csv'\n",
    "df_pred = pd.read_csv(filepath_pred)\n",
    "print(df_pred.shape)\n",
    "df_pred.tail(10)"
   ]
  },
  {
   "cell_type": "code",
   "execution_count": 32,
   "id": "6889f6f9",
   "metadata": {},
   "outputs": [],
   "source": [
    "with open(filepath_pred, 'r') as f:\n",
    "    pred_csv = f.read()\n",
    "\n",
    "f_str = ' <br>|</br>|</ br>|<br/>|<br />|<br><br/>|<br><br />  |\"\\w\"|;|: ' #|^([a-zA-Z]+).* |\\++.*$ ^[\"+\"]*    ,\n",
    "r_str = ''\n",
    "pred_clean_csv = re.sub(f_str, r_str, pred_csv)\n",
    "path = './pred_clean_csv.csv' \n",
    "with open(path, 'w') as f:\n",
    "    f.write(pred_clean_csv)"
   ]
  },
  {
   "cell_type": "code",
   "execution_count": 34,
   "id": "0deb33ec",
   "metadata": {},
   "outputs": [
    {
     "name": "stdout",
     "output_type": "stream",
     "text": [
      "(2000, 2)\n"
     ]
    },
    {
     "data": {
      "text/html": [
       "<div>\n",
       "<style scoped>\n",
       "    .dataframe tbody tr th:only-of-type {\n",
       "        vertical-align: middle;\n",
       "    }\n",
       "\n",
       "    .dataframe tbody tr th {\n",
       "        vertical-align: top;\n",
       "    }\n",
       "\n",
       "    .dataframe thead th {\n",
       "        text-align: right;\n",
       "    }\n",
       "</style>\n",
       "<table border=\"1\" class=\"dataframe\">\n",
       "  <thead>\n",
       "    <tr style=\"text-align: right;\">\n",
       "      <th></th>\n",
       "      <th>id</th>\n",
       "      <th>text</th>\n",
       "    </tr>\n",
       "  </thead>\n",
       "  <tbody>\n",
       "    <tr>\n",
       "      <th>1990</th>\n",
       "      <td>1990</td>\n",
       "      <td>The antiwar musical \"Hair\" is my number one cu...</td>\n",
       "    </tr>\n",
       "    <tr>\n",
       "      <th>1991</th>\n",
       "      <td>1991</td>\n",
       "      <td>Just lovely. It is long. No climax. Don't wait...</td>\n",
       "    </tr>\n",
       "    <tr>\n",
       "      <th>1992</th>\n",
       "      <td>1992</td>\n",
       "      <td>I'm impressed that 'Hail the Woman' was made a...</td>\n",
       "    </tr>\n",
       "    <tr>\n",
       "      <th>1993</th>\n",
       "      <td>1993</td>\n",
       "      <td>Although the video box for many copies of this...</td>\n",
       "    </tr>\n",
       "    <tr>\n",
       "      <th>1994</th>\n",
       "      <td>1994</td>\n",
       "      <td>This is the most depressing film I have ever s...</td>\n",
       "    </tr>\n",
       "    <tr>\n",
       "      <th>1995</th>\n",
       "      <td>1995</td>\n",
       "      <td>I really like Traci Lords. She may not be the ...</td>\n",
       "    </tr>\n",
       "    <tr>\n",
       "      <th>1996</th>\n",
       "      <td>1996</td>\n",
       "      <td>I saw this movie because every review I read o...</td>\n",
       "    </tr>\n",
       "    <tr>\n",
       "      <th>1997</th>\n",
       "      <td>1997</td>\n",
       "      <td>After a long run in the West End this charming...</td>\n",
       "    </tr>\n",
       "    <tr>\n",
       "      <th>1998</th>\n",
       "      <td>1998</td>\n",
       "      <td>I guess if a film has magic, I don't need it t...</td>\n",
       "    </tr>\n",
       "    <tr>\n",
       "      <th>1999</th>\n",
       "      <td>1999</td>\n",
       "      <td>As a camera operator, I couldn't help but admi...</td>\n",
       "    </tr>\n",
       "  </tbody>\n",
       "</table>\n",
       "</div>"
      ],
      "text/plain": [
       "        id                                               text\n",
       "1990  1990  The antiwar musical \"Hair\" is my number one cu...\n",
       "1991  1991  Just lovely. It is long. No climax. Don't wait...\n",
       "1992  1992  I'm impressed that 'Hail the Woman' was made a...\n",
       "1993  1993  Although the video box for many copies of this...\n",
       "1994  1994  This is the most depressing film I have ever s...\n",
       "1995  1995  I really like Traci Lords. She may not be the ...\n",
       "1996  1996  I saw this movie because every review I read o...\n",
       "1997  1997  After a long run in the West End this charming...\n",
       "1998  1998  I guess if a film has magic, I don't need it t...\n",
       "1999  1999  As a camera operator, I couldn't help but admi..."
      ]
     },
     "execution_count": 34,
     "metadata": {},
     "output_type": "execute_result"
    }
   ],
   "source": [
    "pred_path_name = 'pred_clean_csv.csv'\n",
    "pred_clean = pd.read_csv(pred_path_name)\n",
    "print(pred_clean.shape)\n",
    "pred_clean.tail(10)"
   ]
  },
  {
   "cell_type": "code",
   "execution_count": 38,
   "id": "14eb7af8",
   "metadata": {},
   "outputs": [
    {
     "name": "stdout",
     "output_type": "stream",
     "text": [
      "(2000, 45622)\n",
      "<class 'scipy.sparse.csr.csr_matrix'>\n",
      "[[0 0 0 ... 0 0 0]\n",
      " [0 0 0 ... 0 0 0]\n",
      " [0 0 0 ... 0 0 0]\n",
      " ...\n",
      " [0 0 0 ... 0 0 0]\n",
      " [0 0 0 ... 0 0 0]\n",
      " [0 0 0 ... 0 0 0]]\n"
     ]
    }
   ],
   "source": [
    "\n",
    "\n",
    "#frequency Pred\n",
    "pred_vector = train_vectorizer.transform(pred_clean.text)\n",
    "print(pred_vector.shape)\n",
    "print(type(pred_vector))\n",
    "print(pred_vector.toarray())\n",
    "\n",
    "X_pred_freq = pred_vector\n",
    "\n"
   ]
  },
  {
   "cell_type": "code",
   "execution_count": 39,
   "id": "80024557",
   "metadata": {},
   "outputs": [
    {
     "name": "stdout",
     "output_type": "stream",
     "text": [
      "(2000, 45622)\n",
      "[[0. 0. 0. ... 0. 0. 0.]\n",
      " [0. 0. 0. ... 0. 0. 0.]\n",
      " [0. 0. 0. ... 0. 0. 0.]\n",
      " ...\n",
      " [0. 0. 0. ... 0. 0. 0.]\n",
      " [0. 0. 0. ... 0. 0. 0.]\n",
      " [0. 0. 0. ... 0. 0. 0.]]\n"
     ]
    }
   ],
   "source": [
    "# TFIDF Count\n",
    "#Pred_CSV\n",
    "\n",
    "\n",
    "pred_vector_tfidf=fitted_vectorizer.transform(pred_clean.text)\n",
    "print(pred_vector_tfidf.shape)\n",
    "print(pred_vector_tfidf.toarray())\n",
    "\n",
    "\n",
    "X_pred_tfidf = pred_vector_tfidf"
   ]
  },
  {
   "cell_type": "code",
   "execution_count": 50,
   "id": "2bb8a833",
   "metadata": {},
   "outputs": [
    {
     "name": "stdout",
     "output_type": "stream",
     "text": [
      "[1 0 0 ... 1 1 1]\n",
      "(2000,)\n"
     ]
    }
   ],
   "source": [
    "\"\"\" Frequency Multinomial NB\"\"\"\n",
    "\n",
    "y_final_pred_f_Multi = f_mnb.predict(X_pred_freq)\n",
    "#y_pred = pd.DataFrame(y_pred, columns=['close_label_day_5']).to_csv('y_pred.csv') RUN ON SHELL\n",
    "print(y_final_pred_f_Multi)\n",
    "print(y_final_pred_f_Multi.shape)\n"
   ]
  },
  {
   "cell_type": "code",
   "execution_count": 56,
   "id": "03d381cc",
   "metadata": {},
   "outputs": [],
   "source": [
    "y_final_pred_f_Multi = pd.DataFrame(y_final_pred_f_Multi, columns=['label']).to_csv('Freq_Multinomial.csv')"
   ]
  },
  {
   "cell_type": "code",
   "execution_count": 52,
   "id": "31b45bdc",
   "metadata": {},
   "outputs": [
    {
     "name": "stdout",
     "output_type": "stream",
     "text": [
      "[1 0 0 ... 1 1 0]\n"
     ]
    }
   ],
   "source": [
    "\"\"\" Frequency GAUSSIAN NB \"\"\"\n",
    "\n",
    "X_pred_freq = X_pred_freq.toarray()\n",
    "\n",
    "y_final_pred_f_gau = f_gnb.predict(X_pred_freq)\n",
    "#y_pred = pd.DataFrame(y_pred, columns=['close_label_day_5']).to_csv('y_pred.csv') RUN ON SHELL\n",
    "print(y_final_pred_f_gau)\n"
   ]
  },
  {
   "cell_type": "code",
   "execution_count": 57,
   "id": "2283a200",
   "metadata": {},
   "outputs": [],
   "source": [
    "y_final_pred_f_gau = pd.DataFrame(y_final_pred_f_gau, columns=['label']).to_csv('Freq_Gau.csv')"
   ]
  },
  {
   "cell_type": "code",
   "execution_count": 53,
   "id": "c406e39e",
   "metadata": {},
   "outputs": [
    {
     "name": "stdout",
     "output_type": "stream",
     "text": [
      "[1 0 0 ... 1 1 1]\n"
     ]
    }
   ],
   "source": [
    "\"\"\" TFIDF Multinomial NB\"\"\"\n",
    "\n",
    "y_final_pred_tfidf_mul = tf_Mnb.predict(X_pred_tfidf)\n",
    "#y_pred = pd.DataFrame(y_pred, columns=['close_label_day_5']).to_csv('y_pred.csv') RUN ON SHELL\n",
    "print(y_final_pred_tfidf_mul)\n"
   ]
  },
  {
   "cell_type": "code",
   "execution_count": 58,
   "id": "c0fcef0a",
   "metadata": {},
   "outputs": [],
   "source": [
    "y_final_pred_tfidf_mul = pd.DataFrame(y_final_pred_tfidf_mul, columns=['label']).to_csv('TFIDF_Multi.csv')"
   ]
  },
  {
   "cell_type": "code",
   "execution_count": 55,
   "id": "72bd5a6e",
   "metadata": {},
   "outputs": [
    {
     "name": "stdout",
     "output_type": "stream",
     "text": [
      "[1 0 0 ... 1 1 0]\n"
     ]
    }
   ],
   "source": [
    "\"\"\" TFIDF Gaussian NB\"\"\"\n",
    "\n",
    "X_pred_tfidf = X_pred_tfidf.toarray()\n",
    "\n",
    "y_final_pred_tfidf_gau = tf_gnb.predict(X_pred_tfidf)\n",
    "#y_pred = pd.DataFrame(y_pred, columns=['close_label_day_5']).to_csv('y_pred.csv') RUN ON SHELL\n",
    "print(y_final_pred_tfidf_gau)\n"
   ]
  },
  {
   "cell_type": "code",
   "execution_count": null,
   "id": "5d5710eb",
   "metadata": {},
   "outputs": [],
   "source": []
  },
  {
   "cell_type": "code",
   "execution_count": null,
   "id": "28e0902a",
   "metadata": {},
   "outputs": [],
   "source": []
  }
 ],
 "metadata": {
  "kernelspec": {
   "display_name": "Python 3",
   "language": "python",
   "name": "python3"
  },
  "language_info": {
   "codemirror_mode": {
    "name": "ipython",
    "version": 3
   },
   "file_extension": ".py",
   "mimetype": "text/x-python",
   "name": "python",
   "nbconvert_exporter": "python",
   "pygments_lexer": "ipython3",
   "version": "3.9.1"
  }
 },
 "nbformat": 4,
 "nbformat_minor": 5
}
